{
 "cells": [
  {
   "cell_type": "markdown",
   "id": "17e080e7-fc0c-4d42-b57f-e0612e525e10",
   "metadata": {},
   "source": [
    "# Task 02: Prediction using Unsupervised ML\n",
    "\n",
    "## Submitted By: Yashuv Baskota\n",
    "### Language- Python\n",
    "### Dataset: https://bit.ly/3kXTdox\n",
    "\n",
    "#### Description:\n",
    "To predict the optimum number of clusters from the given __'Iris'__ dataset and represent it visually, I chose the `K-means clustering` algorithm. K-means clustering is an unsupervised learning algorithm that is used to partition a dataset into a predefined number of clusters (k). It works by iteratively assigning each data point to the nearest cluster center and updating the cluster centers to be the mean of the points assigned to each cluster.\n",
    "\n",
    "<center><img src=\"image/iris_flowers.png\" width=\"500px\"> <br>\n",
    "    <u>Image source</u>: Wikipedia\n",
    "</center>\n",
    "\n",
    "* To use K-means clustering for the *Iris dataset*, we first need to decide on the number of clusters we want to find (k). Once determined the optimal value of k, we can use the K-means algorithm to cluster the Iris dataset into k clusters. \n",
    "* To visualize the results, you can use a scatter plot to plot the data points, coloring each point according to the cluster it belongs to. This will allow us to see the clusters that the algorithm has identified and get a sense of how well the data has been partitioned."
   ]
  },
  {
   "cell_type": "markdown",
   "id": "503aec2a-5291-4353-a80c-cc7b9b7ff092",
   "metadata": {},
   "source": [
    "## 1. Importing Libraries"
   ]
  },
  {
   "cell_type": "code",
   "execution_count": null,
   "id": "9c405811-b4fd-4001-9c5d-4e369ac7488a",
   "metadata": {},
   "outputs": [],
   "source": [
    "import pandas as pd\n",
    "import numpy as np\n",
    "import matplotlib.pyplot as plt \n",
    "import seaborn as sns\n",
    "\n",
    "from sklearn.preprocessing import StandardScaler\n",
    "\n",
    "from sklearn.cluster import KMeans\n",
    "from sklearn.metrics import silhouette_score, calinski_harabasz_score"
   ]
  },
  {
   "cell_type": "markdown",
   "id": "618cf250-afbb-4873-8109-8756070bea4b",
   "metadata": {},
   "source": [
    "## 2. Load the Iris dataset"
   ]
  },
  {
   "cell_type": "code",
   "execution_count": null,
   "id": "49f3bd1b-fc64-4372-9936-b894c2ddf199",
   "metadata": {},
   "outputs": [],
   "source": [
    "# load the Iris dataset from a CSV file\n",
    "data = pd.read_csv('data/Iris.csv')"
   ]
  },
  {
   "cell_type": "markdown",
   "id": "4368a4d1-36de-4abc-9eb4-40b859216747",
   "metadata": {},
   "source": [
    "## 3. EDA"
   ]
  },
  {
   "cell_type": "code",
   "execution_count": null,
   "id": "440e7083-fed5-408d-ac19-8e00dda99ac1",
   "metadata": {},
   "outputs": [],
   "source": [
    "data.info()"
   ]
  },
  {
   "cell_type": "code",
   "execution_count": null,
   "id": "fb0007d5-07c2-4197-83f0-d40e8e2dbf0c",
   "metadata": {},
   "outputs": [],
   "source": [
    "data.head()"
   ]
  },
  {
   "cell_type": "code",
   "execution_count": null,
   "id": "e91c1703-6949-4bd9-802e-919aee0bfff6",
   "metadata": {},
   "outputs": [],
   "source": [
    "data.isnull().sum()"
   ]
  },
  {
   "cell_type": "code",
   "execution_count": null,
   "id": "652b7391-23a8-4598-a631-38f5fa153ff0",
   "metadata": {},
   "outputs": [],
   "source": [
    "data[['SepalLengthCm','SepalWidthCm','PetalLengthCm','PetalWidthCm']].describe()"
   ]
  },
  {
   "cell_type": "markdown",
   "id": "e07ebb1f-24da-4716-af1a-dfab3ae67b48",
   "metadata": {},
   "source": [
    "### Unique Species"
   ]
  },
  {
   "cell_type": "code",
   "execution_count": null,
   "id": "401dd6f8-0899-4c38-8c54-ed9b79ec0fbb",
   "metadata": {},
   "outputs": [],
   "source": [
    "data[\"Species\"].unique()"
   ]
  },
  {
   "cell_type": "markdown",
   "id": "2651b1b1-d6e3-4dfd-b18c-ad91e6da6970",
   "metadata": {
    "tags": []
   },
   "source": [
    "### Frequency distribution of species"
   ]
  },
  {
   "cell_type": "code",
   "execution_count": null,
   "id": "55859599-2212-45d0-8c94-0144fe8b3d41",
   "metadata": {},
   "outputs": [],
   "source": [
    "data[\"Species\"].value_counts()"
   ]
  },
  {
   "cell_type": "markdown",
   "id": "aac7c7cd-b9aa-4796-b6bd-55009f98c23c",
   "metadata": {},
   "source": [
    "### Box Plot"
   ]
  },
  {
   "cell_type": "code",
   "execution_count": null,
   "id": "9ae7afd9-7fac-4c3b-b22c-df38998bcb65",
   "metadata": {},
   "outputs": [],
   "source": [
    "sns.boxplot(x=\"Species\",y=\"PetalLengthCm\",data=data)\n",
    "plt.show()"
   ]
  },
  {
   "cell_type": "markdown",
   "id": "5b82b4b7-65e4-4119-83ee-3eacd9aaf533",
   "metadata": {},
   "source": [
    "## 4. Data Preprocessing"
   ]
  },
  {
   "cell_type": "markdown",
   "id": "8cc6334a-46ae-4e48-8b81-b49fcb1d51a2",
   "metadata": {
    "tags": []
   },
   "source": [
    "### Extract Feature Columns"
   ]
  },
  {
   "cell_type": "code",
   "execution_count": null,
   "id": "bb5526ec-e770-4167-a870-69755a1b1b70",
   "metadata": {},
   "outputs": [],
   "source": [
    "X = data.iloc[:, [1, 2, 3, 4]].values"
   ]
  },
  {
   "cell_type": "markdown",
   "id": "b79d65ef-f92b-42cf-a60d-ef3f77ab573d",
   "metadata": {},
   "source": [
    "### Feature Scaling"
   ]
  },
  {
   "cell_type": "code",
   "execution_count": null,
   "id": "4ec8b879-8e5d-4d3c-9589-711d9c286098",
   "metadata": {},
   "outputs": [],
   "source": [
    "# # standardize the features\n",
    "# scaler = StandardScaler()\n",
    "# X_scaled = scaler.fit_transform(X)"
   ]
  },
  {
   "cell_type": "markdown",
   "id": "f23646e7-ecf3-4997-8780-07149ac55aa7",
   "metadata": {},
   "source": [
    "## 5. K-Means"
   ]
  },
  {
   "cell_type": "code",
   "execution_count": null,
   "id": "6bcaad26-b788-4f9f-a96a-9fd363596e1f",
   "metadata": {},
   "outputs": [],
   "source": [
    "# fit K-means to the dataset for different values of k and compute the WCSS\n",
    "wcss = []\n",
    "for i in range(1, 11):\n",
    "    kmeans = KMeans(n_clusters=i, init='k-means++', random_state=42)\n",
    "    kmeans.fit(X)\n",
    "    wcss.append(kmeans.inertia_)"
   ]
  },
  {
   "cell_type": "markdown",
   "id": "c18c337c-1df5-4582-b2d5-e11d10fe0a08",
   "metadata": {},
   "source": [
    "### Determine the optimal number of clusters using the elbow method"
   ]
  },
  {
   "cell_type": "code",
   "execution_count": null,
   "id": "bebe6391-b79c-43e6-9ccf-f4e2d915480c",
   "metadata": {},
   "outputs": [],
   "source": [
    "plt.plot(range(1, 11), wcss)\n",
    "plt.title('The elbow method')\n",
    "plt.xlabel('Number of clusters')\n",
    "plt.ylabel('WCSS')\n",
    "plt.show()"
   ]
  },
  {
   "cell_type": "markdown",
   "id": "b229a61f-8926-462f-b18d-c3060c40dcc1",
   "metadata": {},
   "source": [
    "### Implementing K-Means Clustering"
   ]
  },
  {
   "cell_type": "code",
   "execution_count": null,
   "id": "2e3bb55a-a0e8-414a-9943-940459c21a7c",
   "metadata": {},
   "outputs": [],
   "source": [
    "# fit K-means to the dataset with the optimal number of clusters\n",
    "kmeans = KMeans(n_clusters = 3, init = 'k-means++', max_iter = 300, n_init = 10, random_state = 42)\n",
    "predictions = kmeans.fit_predict(X)"
   ]
  },
  {
   "cell_type": "markdown",
   "id": "4786c6bd-4aa7-4051-bc35-d11a495609c6",
   "metadata": {},
   "source": [
    "### Visualising the clusters"
   ]
  },
  {
   "cell_type": "code",
   "execution_count": null,
   "id": "72c9dfa5-bd7b-41f4-aad6-cac62612388d",
   "metadata": {},
   "outputs": [],
   "source": [
    "plt.scatter(X[predictions == 1, 0], X[predictions == 1, 1], s = 90, c = 'red', label = 'Iris-setosa')\n",
    "plt.scatter(X[predictions == 0, 0], X[predictions == 0, 1], s = 90, c = 'green', label = 'Iris-versicolour')\n",
    "plt.scatter(X[predictions == 2, 0], X[predictions == 2, 1], s = 90, c = 'blue', label = 'Iris-virginica')\n",
    "\n",
    "# plot the centroids of the clusters\n",
    "plt.scatter(kmeans.cluster_centers_[:, 0], kmeans.cluster_centers_[:,1], s = 100, c = 'yellow', label = 'Centroids')\n",
    "\n",
    "plt.title(\"K-means Cluster: Iris Flower Species\")\n",
    "plt.xlabel(\"Sepal Length\")\n",
    "plt.ylabel(\"Sepal Width\")\n",
    "plt.legend()"
   ]
  },
  {
   "cell_type": "markdown",
   "id": "87f4b1fe-3e3a-44d0-9033-2892acc1045b",
   "metadata": {},
   "source": [
    "### Performance Evaluation"
   ]
  },
  {
   "cell_type": "code",
   "execution_count": null,
   "id": "4ef3f566-fc59-4720-825a-856abb018a6a",
   "metadata": {},
   "outputs": [],
   "source": [
    "# evaluate the performance of the clustering\n",
    "print(f'Within-cluster sum of squares: {kmeans.inertia_:.4f}')\n",
    "print(f'Silhouette score: {silhouette_score(X, predictions):.4f}')\n",
    "print(f'Calinski-Harabasz score: {calinski_harabasz_score(X, predictions):.4f}')"
   ]
  },
  {
   "cell_type": "markdown",
   "id": "f416e1e1-62b8-4dfd-af7c-16e272371b68",
   "metadata": {},
   "source": [
    "## 6. Making Predictions"
   ]
  },
  {
   "cell_type": "code",
   "execution_count": null,
   "id": "31a9c979-2a03-4586-8096-4e4317ba5577",
   "metadata": {},
   "outputs": [],
   "source": [
    "# predict the cluster for a new data point\n",
    "\n",
    "new_data_point1 = [[5.7,2.5,5.0,2.0]]\n",
    "new_data_point2 = [[5.0,3.6,1.4,0.2]]\n",
    "new_data_point3 = [[7.2,3.2,6.0,1.8]]\n",
    "\n",
    "def make_prediction(new_data_point):\n",
    "    \n",
    "    # create a DataFrame with column names\n",
    "    new_data_point_df = pd.DataFrame(new_data_point, columns=[['SepalLengthCm', 'SepalWidthCm', 'PetalLengthCm', 'PetalWidthCm']])\n",
    "\n",
    "    # predict the cluster for the new data point\n",
    "    prediction = kmeans.predict(new_data_point_df)[0]\n",
    "    print(f'Predicted cluster for new data point: {prediction}')"
   ]
  },
  {
   "cell_type": "code",
   "execution_count": null,
   "id": "7385bf0f-3d1e-4cb1-a1b9-c755365692fa",
   "metadata": {},
   "outputs": [],
   "source": [
    "make_prediction(new_data_point1)\n",
    "make_prediction(new_data_point2)\n",
    "make_prediction(new_data_point3)"
   ]
  },
  {
   "cell_type": "markdown",
   "id": "d7f8d8ae-2dac-4fbf-958a-93744bacfcb2",
   "metadata": {},
   "source": [
    "\n",
    "---\n",
    "__Thank You!__"
   ]
  }
 ],
 "metadata": {
  "kernelspec": {
   "display_name": "Python 3 (ipykernel)",
   "language": "python",
   "name": "python3"
  },
  "language_info": {
   "codemirror_mode": {
    "name": "ipython",
    "version": 3
   },
   "file_extension": ".py",
   "mimetype": "text/x-python",
   "name": "python",
   "nbconvert_exporter": "python",
   "pygments_lexer": "ipython3",
   "version": "3.11.0"
  }
 },
 "nbformat": 4,
 "nbformat_minor": 5
}
